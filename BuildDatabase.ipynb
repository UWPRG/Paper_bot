{
 "cells": [
  {
   "cell_type": "code",
   "execution_count": 18,
   "metadata": {},
   "outputs": [],
   "source": [
    "import numpy\n",
    "import scholarly\n",
    "import tweepy\n",
    "import pandas as pd\n",
    "import numpy as np"
   ]
  },
  {
   "cell_type": "code",
   "execution_count": 19,
   "metadata": {},
   "outputs": [],
   "source": [
    "def search_name(name):\n",
    "    data = pd.DataFrame(columns=['name','publication'])\n",
    "    search_query = scholarly.search_author(name)\n",
    "    author = next(search_query).fill()\n",
    "    for pub in author.publications:\n",
    "        data = data.append({'name':name, 'publication':pub.bib['title']}, ignore_index=True)\n",
    "    return(data)"
   ]
  },
  {
   "cell_type": "code",
   "execution_count": 20,
   "metadata": {},
   "outputs": [],
   "source": [
    "def build_data():\n",
    "    df= pd.read_excel(\"./CoMSEf Member List 2020_Feb_11_20.xls\")\n",
    "    professor =  df[df['Mem Type'] == 'Professional']\n",
    "\n",
    "\n",
    "    prof_num = 0\n",
    "    \n",
    "    for idx,row in professor.iterrows():\n",
    "\n",
    "        first_name = row['FirstName']\n",
    "        middle_name = row['MiddleName']\n",
    "        last_name = row['LastName']\n",
    "        name = ''\n",
    "\n",
    "        if isinstance(first_name,str):\n",
    "            name +=  first_name\n",
    "        if isinstance(middle_name,str):\n",
    "            name +=' ' +  middle_name\n",
    "        if isinstance(last_name,str):\n",
    "            name +=' ' +  last_name\n",
    "        print('Searching '+name+'...')\n",
    "\n",
    "        try:\n",
    "            \n",
    "            data = search_name(name)\n",
    "            print(\"Found!\")\n",
    "            prof_num += 1\n",
    "            break\n",
    "        except:\n",
    "            print(\"Not found!\")\n",
    "            \n",
    "    print(\"Found \",prof_num)\n",
    "    print(\"Saving dataframe....\")\n",
    "    data.to_excel('Data.xls')"
   ]
  },
  {
   "cell_type": "code",
   "execution_count": 21,
   "metadata": {},
   "outputs": [
    {
     "name": "stdout",
     "output_type": "stream",
     "text": [
      "Searching Cameron Abrams...\n",
      "Found!\n",
      "Found  1\n",
      "Saving dataframe....\n"
     ]
    }
   ],
   "source": [
    "build_data()"
   ]
  },
  {
   "cell_type": "code",
   "execution_count": 16,
   "metadata": {},
   "outputs": [],
   "source": [
    "data = pd.read_excel('Data.xls')"
   ]
  },
  {
   "cell_type": "code",
   "execution_count": 17,
   "metadata": {},
   "outputs": [
    {
     "data": {
      "text/html": [
       "<div>\n",
       "<style scoped>\n",
       "    .dataframe tbody tr th:only-of-type {\n",
       "        vertical-align: middle;\n",
       "    }\n",
       "\n",
       "    .dataframe tbody tr th {\n",
       "        vertical-align: top;\n",
       "    }\n",
       "\n",
       "    .dataframe thead th {\n",
       "        text-align: right;\n",
       "    }\n",
       "</style>\n",
       "<table border=\"1\" class=\"dataframe\">\n",
       "  <thead>\n",
       "    <tr style=\"text-align: right;\">\n",
       "      <th></th>\n",
       "      <th>Unnamed: 0</th>\n",
       "      <th>name</th>\n",
       "      <th>publication</th>\n",
       "    </tr>\n",
       "  </thead>\n",
       "  <tbody>\n",
       "    <tr>\n",
       "      <th>0</th>\n",
       "      <td>3</td>\n",
       "      <td>Cameron Abrams</td>\n",
       "      <td>Combined coarse-grained and atomistic simulati...</td>\n",
       "    </tr>\n",
       "    <tr>\n",
       "      <th>1</th>\n",
       "      <td>4</td>\n",
       "      <td>Cameron Abrams</td>\n",
       "      <td>Molecular dynamics simulations of Si etching b...</td>\n",
       "    </tr>\n",
       "    <tr>\n",
       "      <th>2</th>\n",
       "      <td>5</td>\n",
       "      <td>Cameron Abrams</td>\n",
       "      <td>Energetic ion bombardment of  surfaces: Molecu...</td>\n",
       "    </tr>\n",
       "    <tr>\n",
       "      <th>3</th>\n",
       "      <td>6</td>\n",
       "      <td>Cameron Abrams</td>\n",
       "      <td>Structural basis for calmodulin as a dynamic c...</td>\n",
       "    </tr>\n",
       "    <tr>\n",
       "      <th>4</th>\n",
       "      <td>7</td>\n",
       "      <td>Cameron Abrams</td>\n",
       "      <td>Dual-resolution coarse-grained simulation of t...</td>\n",
       "    </tr>\n",
       "    <tr>\n",
       "      <th>...</th>\n",
       "      <td>...</td>\n",
       "      <td>...</td>\n",
       "      <td>...</td>\n",
       "    </tr>\n",
       "    <tr>\n",
       "      <th>185</th>\n",
       "      <td>188</td>\n",
       "      <td>Cameron Abrams</td>\n",
       "      <td>1265-Pos Role of Dimerization in Poly-Ubiquiti...</td>\n",
       "    </tr>\n",
       "    <tr>\n",
       "      <th>186</th>\n",
       "      <td>189</td>\n",
       "      <td>Cameron Abrams</td>\n",
       "      <td>216a Monday, February 9, 2015</td>\n",
       "    </tr>\n",
       "    <tr>\n",
       "      <th>187</th>\n",
       "      <td>190</td>\n",
       "      <td>Cameron Abrams</td>\n",
       "      <td>This paper is published as part of a PCCP Them...</td>\n",
       "    </tr>\n",
       "    <tr>\n",
       "      <th>188</th>\n",
       "      <td>191</td>\n",
       "      <td>Cameron Abrams</td>\n",
       "      <td>Supporting information for: Polymorphism at 12...</td>\n",
       "    </tr>\n",
       "    <tr>\n",
       "      <th>189</th>\n",
       "      <td>192</td>\n",
       "      <td>Cameron Abrams</td>\n",
       "      <td>Inhomogeneous Coarse-Graining of Polymers and ...</td>\n",
       "    </tr>\n",
       "  </tbody>\n",
       "</table>\n",
       "<p>190 rows × 3 columns</p>\n",
       "</div>"
      ],
      "text/plain": [
       "     Unnamed: 0            name  \\\n",
       "0             3  Cameron Abrams   \n",
       "1             4  Cameron Abrams   \n",
       "2             5  Cameron Abrams   \n",
       "3             6  Cameron Abrams   \n",
       "4             7  Cameron Abrams   \n",
       "..          ...             ...   \n",
       "185         188  Cameron Abrams   \n",
       "186         189  Cameron Abrams   \n",
       "187         190  Cameron Abrams   \n",
       "188         191  Cameron Abrams   \n",
       "189         192  Cameron Abrams   \n",
       "\n",
       "                                           publication  \n",
       "0    Combined coarse-grained and atomistic simulati...  \n",
       "1    Molecular dynamics simulations of Si etching b...  \n",
       "2    Energetic ion bombardment of  surfaces: Molecu...  \n",
       "3    Structural basis for calmodulin as a dynamic c...  \n",
       "4    Dual-resolution coarse-grained simulation of t...  \n",
       "..                                                 ...  \n",
       "185  1265-Pos Role of Dimerization in Poly-Ubiquiti...  \n",
       "186                      216a Monday, February 9, 2015  \n",
       "187  This paper is published as part of a PCCP Them...  \n",
       "188  Supporting information for: Polymorphism at 12...  \n",
       "189  Inhomogeneous Coarse-Graining of Polymers and ...  \n",
       "\n",
       "[190 rows x 3 columns]"
      ]
     },
     "execution_count": 17,
     "metadata": {},
     "output_type": "execute_result"
    }
   ],
   "source": [
    "data"
   ]
  },
  {
   "cell_type": "code",
   "execution_count": null,
   "metadata": {},
   "outputs": [],
   "source": []
  }
 ],
 "metadata": {
  "anaconda-cloud": {},
  "kernelspec": {
   "display_name": "Python 3",
   "language": "python",
   "name": "python3"
  },
  "language_info": {
   "codemirror_mode": {
    "name": "ipython",
    "version": 3
   },
   "file_extension": ".py",
   "mimetype": "text/x-python",
   "name": "python",
   "nbconvert_exporter": "python",
   "pygments_lexer": "ipython3",
   "version": "3.7.6"
  }
 },
 "nbformat": 4,
 "nbformat_minor": 1
}
