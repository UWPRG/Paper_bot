{
 "cells": [
  {
   "cell_type": "code",
   "execution_count": null,
   "metadata": {},
   "outputs": [],
   "source": [
    "import numpy\n",
    "from scholarly import scholarly\n",
    "import tweepy\n",
    "import pandas as pd\n",
    "import numpy as np"
   ]
  },
  {
   "cell_type": "code",
   "execution_count": null,
   "metadata": {},
   "outputs": [],
   "source": [
    "def search_name(name):\n",
    "    data = pd.DataFrame(columns=['name','publication'])\n",
    "    search_query = scholarly.search_author(name)\n",
    "    author = next(search_query).fill()\n",
    "    for pub in author.publications:\n",
    "        data = data.append({'name':name, 'publication':pub.bib['title']}, ignore_index=True)\n",
    "    return(data)"
   ]
  },
  {
   "cell_type": "code",
   "execution_count": null,
   "metadata": {},
   "outputs": [],
   "source": [
    "def build_data():\n",
    "    df= pd.read_excel(\"./CoMSEf Member List 2020_Feb_11_20.xls\")\n",
    "    professor =  df[df['Mem Type'] == 'Professional']\n",
    "\n",
    "\n",
    "    prof_num = 0\n",
    "    data = pd.DataFrame(columns=['name','publication'])\n",
    "    for idx,row in professor.iterrows():\n",
    "\n",
    "        first_name = row['FirstName']\n",
    "        middle_name = row['MiddleName']\n",
    "        last_name = row['LastName']\n",
    "        name = ''\n",
    "\n",
    "        if isinstance(first_name,str):\n",
    "            name +=  first_name\n",
    "        if isinstance(middle_name,str):\n",
    "            name +=' ' +  middle_name\n",
    "        if isinstance(last_name,str):\n",
    "            name +=' ' +  last_name\n",
    "        print('Searching '+name+'...')\n",
    "\n",
    "        try:\n",
    "            \n",
    "            data = data.append(search_name(name),ignore_index=True)\n",
    "            print(\"Found!\")\n",
    "            prof_num += 1\n",
    "        except:\n",
    "            print(\"Not found!\")\n",
    "            \n",
    "    print(\"Found \",prof_num)\n",
    "    print(\"Saving dataframe....\")\n",
    "    data.to_excel('Data.xls',index=False)"
   ]
  },
  {
   "cell_type": "code",
   "execution_count": null,
   "metadata": {},
   "outputs": [],
   "source": [
    "build_data()"
   ]
  },
  {
   "cell_type": "code",
   "execution_count": null,
   "metadata": {},
   "outputs": [],
   "source": [
    "data = pd.read_excel('Data.xls')"
   ]
  },
  {
   "cell_type": "code",
   "execution_count": null,
   "metadata": {},
   "outputs": [],
   "source": [
    "data"
   ]
  },
  {
   "cell_type": "code",
   "execution_count": null,
   "metadata": {},
   "outputs": [],
   "source": [
    "df= pd.read_excel(\"./CoMSEf Member List 2020_Feb_11_20.xls\")\n",
    "professor =  df[df['Mem Type'] == 'Professional']"
   ]
  },
  {
   "cell_type": "code",
   "execution_count": null,
   "metadata": {},
   "outputs": [],
   "source": [
    "professor.shape"
   ]
  },
  {
   "cell_type": "code",
   "execution_count": null,
   "metadata": {},
   "outputs": [],
   "source": []
  }
 ],
 "metadata": {
  "anaconda-cloud": {},
  "kernelspec": {
   "display_name": "Python 3",
   "language": "python",
   "name": "python3"
  },
  "language_info": {
   "codemirror_mode": {
    "name": "ipython",
    "version": 3
   },
   "file_extension": ".py",
   "mimetype": "text/x-python",
   "name": "python",
   "nbconvert_exporter": "python",
   "pygments_lexer": "ipython3",
   "version": "3.7.6"
  }
 },
 "nbformat": 4,
 "nbformat_minor": 1
}
