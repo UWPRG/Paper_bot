{
 "cells": [
  {
   "cell_type": "code",
   "execution_count": 6,
   "metadata": {},
   "outputs": [],
   "source": [
    "import numpy\n",
    "import scholarly\n",
    "import tweepy\n",
    "import pandas as pd\n",
    "import numpy as np\n",
    "from IPython.display import display"
   ]
  },
  {
   "cell_type": "code",
   "execution_count": 7,
   "metadata": {},
   "outputs": [],
   "source": [
    "def initAPI():\n",
    "        # Authenticate to Twitter\n",
    "    auth = tweepy.OAuthHandler(\"Nx8QQYr0HIvf5LsQBbmOEHkwl\", \n",
    "        \"gq451Xsq5keBqNSoiu2rUY3mPeI0Fqzzrj21UmGWTwzRr8fGeo\")\n",
    "    auth.set_access_token(\"1237156440713736192-TvUNXIxeY1oX3VukiUBNATFmmgCLJO\", \n",
    "        \"qhj2UV74OKJExhc831HsZeFvRH6cehC54yi0Rr7MnUkxz\")\n",
    "\n",
    "    api = tweepy.API(auth)\n",
    "\n",
    "    try:\n",
    "        api.verify_credentials()\n",
    "        print(\"Authentication OK\")\n",
    "        return(api)\n",
    "    except:\n",
    "        print(\"Error during authentication\")\n",
    "        return(None)"
   ]
  },
  {
   "cell_type": "code",
   "execution_count": 8,
   "metadata": {},
   "outputs": [],
   "source": [
    "def search_name(name):\n",
    "    data = pd.DataFrame(columns=['name','publication'])\n",
    "    search_query = scholarly.search_author(name)\n",
    "    author = next(search_query).fill()\n",
    "    for pub in author.publications:\n",
    "        data = data.append({'name':name, 'publication':pub.bib['title']}, ignore_index=True)\n",
    "    return(data)"
   ]
  },
  {
   "cell_type": "code",
   "execution_count": null,
   "metadata": {},
   "outputs": [],
   "source": [
    "def Crawler():\n",
    "    df = pd.read_excel(\"./CoMSEf Member List 2020_Feb_11_20.xls\")\n",
    "    professor =  df[df['Mem Type'] == 'Professional']\n",
    "\n",
    "    prof_num = 0\n",
    "    for idx,row in professor.iterrows():\n",
    "        first_name = row['FirstName']\n",
    "        middle_name = row['MiddleName']\n",
    "        last_name = row['LastName']\n",
    "        name = ''\n",
    "\n",
    "        if isinstance(first_name,str):\n",
    "            name +=  first_name\n",
    "        if isinstance(middle_name,str):\n",
    "            name +=' ' +  middle_name\n",
    "        if isinstance(last_name,str):\n",
    "            name +=' ' +  last_name\n",
    "        print('Searching '+name+'...')\n",
    "\n",
    "        try:\n",
    "            data = search_name(name)\n",
    "            print(\"Found!\")\n",
    "            prof_num += 1\n",
    "            break\n",
    "\n",
    "        except:\n",
    "            print(\"Not found!\")\n",
    "            \n",
    "    print(\"Found \",prof_num)\n",
    "    print(\"Saving dataframe....\")\n",
    "    data.to_excel('Data.xls',index=False)\n",
    "    return(data)\n",
    "    "
   ]
  },
  {
   "cell_type": "code",
   "execution_count": 9,
   "metadata": {},
   "outputs": [],
   "source": [
    "def tweet(api,row,url):\n",
    "    if url == None:\n",
    "        api.update_status('Check it out this paper by '+row['name']+':'+row['publication'])\n",
    "    else:\n",
    "        api.update_status('Check it out this paper by '+row['name']+':'+row['publication']+url)\n",
    "    print('twitter sent')"
   ]
  },
  {
   "cell_type": "code",
   "execution_count": null,
   "metadata": {},
   "outputs": [],
   "source": [
    "def DailyRoutine():\n",
    "    old_data = pd.read_excel(\"./Data.xls\")\n",
    "    data = Crawler()\n",
    "    new_data = pd.merge(data, old_data, on=['name','publication'], how=\"outer\", indicator=True\n",
    "              ).query('_merge==\"left_only\"')\n",
    "    display(new_data)\n",
    "    if new_data.shape[0]>1:\n",
    "        api = initAPI()\n",
    "        for idx,row in new_data.iterrows():\n",
    "            try:\n",
    "                search_pub = scholarly.search_pubs(row['publication'])\n",
    "                pub = next(search_pub)\n",
    "                url = \n",
    "            #tweet(api,row)\n",
    "            "
   ]
  },
  {
   "cell_type": "code",
   "execution_count": null,
   "metadata": {},
   "outputs": [],
   "source": [
    "DailyRoutine()"
   ]
  },
  {
   "cell_type": "code",
   "execution_count": null,
   "metadata": {},
   "outputs": [],
   "source": [
    "api =  initAPI()\n",
    "api.get_status(1)"
   ]
  },
  {
   "cell_type": "code",
   "execution_count": null,
   "metadata": {
    "scrolled": false
   },
   "outputs": [],
   "source": [
    "for status in api.home_timeline():\n",
    "    print(status.id)\n",
    "    try:\n",
    "        api.destroy_status(status.id)\n",
    "    except:\n",
    "        print('failed')"
   ]
  },
  {
   "cell_type": "code",
   "execution_count": null,
   "metadata": {},
   "outputs": [],
   "source": [
    "data = search_name('Coco Mao')"
   ]
  },
  {
   "cell_type": "code",
   "execution_count": 10,
   "metadata": {},
   "outputs": [
    {
     "name": "stdout",
     "output_type": "stream",
     "text": [
      "{'_filled': False,\n",
      " 'bib': {'title': 'Plasma electrolytic oxidation of an Al-Cu-Li alloy in '\n",
      "                  'alkaline aluminate electrolytes: A competition between '\n",
      "                  'growth and dissolution for the initial ultra-thin films',\n",
      "         'year': 2014},\n",
      " 'citedby': 42,\n",
      " 'id_citations': '7RFgJdEAAAAJ:u5HHmVD_uO8C',\n",
      " 'source': 'citations'}\n"
     ]
    }
   ],
   "source": [
    "search_query = scholarly.search_author('Coco Mao')\n",
    "author = next(search_query).fill()\n",
    "pub = author.publications[0]\n",
    "print(pub)"
   ]
  },
  {
   "cell_type": "code",
   "execution_count": 11,
   "metadata": {},
   "outputs": [
    {
     "ename": "AttributeError",
     "evalue": "module 'scholarly' has no attribute 'search_pubs'",
     "output_type": "error",
     "traceback": [
      "\u001b[0;31m---------------------------------------------------------------------------\u001b[0m",
      "\u001b[0;31mAttributeError\u001b[0m                            Traceback (most recent call last)",
      "\u001b[0;32m<ipython-input-11-1f56532b1570>\u001b[0m in \u001b[0;36m<module>\u001b[0;34m\u001b[0m\n\u001b[0;32m----> 1\u001b[0;31m \u001b[0msearch_pub\u001b[0m \u001b[0;34m=\u001b[0m \u001b[0mscholarly\u001b[0m\u001b[0;34m.\u001b[0m\u001b[0msearch_pubs\u001b[0m\u001b[0;34m(\u001b[0m\u001b[0;34m'Plasma electrolytic oxidation of an Al-Cu-Li alloy in alkaline aluminate electrolytes: A competition between growth and dissolution for the initial ultra-thin films'\u001b[0m\u001b[0;34m)\u001b[0m\u001b[0;34m\u001b[0m\u001b[0;34m\u001b[0m\u001b[0m\n\u001b[0m",
      "\u001b[0;31mAttributeError\u001b[0m: module 'scholarly' has no attribute 'search_pubs'"
     ]
    }
   ],
   "source": [
    "search_pub = scholarly.search_pubs('Plasma electrolytic oxidation of an Al-Cu-Li alloy in alkaline aluminate electrolytes: A competition between growth and dissolution for the initial ultra-thin films')"
   ]
  },
  {
   "cell_type": "code",
   "execution_count": null,
   "metadata": {},
   "outputs": [],
   "source": []
  }
 ],
 "metadata": {
  "kernelspec": {
   "display_name": "Python 3",
   "language": "python",
   "name": "python3"
  },
  "language_info": {
   "codemirror_mode": {
    "name": "ipython",
    "version": 3
   },
   "file_extension": ".py",
   "mimetype": "text/x-python",
   "name": "python",
   "nbconvert_exporter": "python",
   "pygments_lexer": "ipython3",
   "version": "3.7.6"
  }
 },
 "nbformat": 4,
 "nbformat_minor": 4
}
