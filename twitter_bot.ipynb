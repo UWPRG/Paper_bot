{
 "cells": [
  {
   "cell_type": "code",
   "execution_count": 35,
   "metadata": {},
   "outputs": [],
   "source": [
    "import numpy\n",
    "import scholarly\n",
    "import tweepy\n",
    "import pandas as pd"
   ]
  },
  {
   "cell_type": "code",
   "execution_count": 8,
   "metadata": {},
   "outputs": [],
   "source": [
    "search_query = scholarly.search_author('Jim Pfaendtner')\n",
    "print(next(search_query)) \n",
    "# Retrieve the author's data, fill-in, and print\n",
    "search_query = scholarly.search_author('Jim Pfaendtner')\n",
    "author = next(search_query).fill()\n",
    "#print(author)\n",
    "\n",
    "# Print the titles of the author's publications\n",
    "print([pub.bib['title'] for pub in author.publications])\n",
    "\n",
    "# Take a closer look at the first publication\n",
    "pub = author.publications[0].fill()\n",
    "print(author.publications[0].fill())\n",
    "\n",
    "# Which papers cited that publication?\n",
    "print([citation.bib['title'] for citation in pub.get_citedby()])"
   ]
  },
  {
   "cell_type": "code",
   "execution_count": 3,
   "metadata": {},
   "outputs": [
    {
     "name": "stdout",
     "output_type": "stream",
     "text": [
      "Authentication OK\n"
     ]
    }
   ],
   "source": [
    "# Authenticate to Twitter\n",
    "auth = tweepy.OAuthHandler(\"Nx8QQYr0HIvf5LsQBbmOEHkwl\", \n",
    "    \"gq451Xsq5keBqNSoiu2rUY3mPeI0Fqzzrj21UmGWTwzRr8fGeo\")\n",
    "auth.set_access_token(\"1237156440713736192-TvUNXIxeY1oX3VukiUBNATFmmgCLJO\", \n",
    "    \"qhj2UV74OKJExhc831HsZeFvRH6cehC54yi0Rr7MnUkxz\")\n",
    "\n",
    "api = tweepy.API(auth)\n",
    "\n",
    "try:\n",
    "    api.verify_credentials()\n",
    "    print(\"Authentication OK\")\n",
    "except:\n",
    "    print(\"Error during authentication\")"
   ]
  },
  {
   "cell_type": "code",
   "execution_count": 5,
   "metadata": {},
   "outputs": [
    {
     "name": "stdout",
     "output_type": "stream",
     "text": [
      "User details:\n",
      "毛莫可\n",
      "\n",
      "University District, Seattle\n",
      "Last 20 Followers:\n",
      "Colleen Chiu-Shee\n"
     ]
    }
   ],
   "source": [
    "user = api.get_user(\"maomokecoco\")\n",
    "\n",
    "print(\"User details:\")\n",
    "print(user.name)\n",
    "print(user.description)\n",
    "print(user.location)\n",
    "\n",
    "print(\"Last 20 Followers:\")\n",
    "for follower in user.followers():\n",
    "    print(follower.name)"
   ]
  },
  {
   "cell_type": "code",
   "execution_count": 28,
   "metadata": {},
   "outputs": [],
   "source": [
    "latest_pub = author.publications[-1].fill()"
   ]
  },
  {
   "cell_type": "code",
   "execution_count": 23,
   "metadata": {},
   "outputs": [
    {
     "data": {
      "text/plain": [
       "'Nucleotide-dependent conformational states of actin PNAS 2009 106: 12723-12728; published online before print July 20, 2009, doi: 10.1073/pnas. 0902092106'"
      ]
     },
     "execution_count": 23,
     "metadata": {},
     "output_type": "execute_result"
    }
   ],
   "source": [
    "latest_pub.bib['title']"
   ]
  },
  {
   "cell_type": "code",
   "execution_count": 29,
   "metadata": {
    "collapsed": true
   },
   "outputs": [
    {
     "data": {
      "text/plain": [
       "Status(_api=<tweepy.api.API object at 0x10aa5f750>, _json={'created_at': 'Thu Mar 12 23:31:14 +0000 2020', 'id': 1238246203017646086, 'id_str': '1238246203017646086', 'text': 'Nucleotide-dependent conformational states of actin PNAS 2009 106: 12723-12728; published online before print July… https://t.co/UEn2GAr9YA', 'truncated': True, 'entities': {'hashtags': [], 'symbols': [], 'user_mentions': [], 'urls': [{'url': 'https://t.co/UEn2GAr9YA', 'expanded_url': 'https://twitter.com/i/web/status/1238246203017646086', 'display_url': 'twitter.com/i/web/status/1…', 'indices': [116, 139]}]}, 'source': '<a href=\"https://www.aiche.org/community/divisions-forums/comsef\" rel=\"nofollow\">comsef_paper</a>', 'in_reply_to_status_id': None, 'in_reply_to_status_id_str': None, 'in_reply_to_user_id': None, 'in_reply_to_user_id_str': None, 'in_reply_to_screen_name': None, 'user': {'id': 1237156440713736192, 'id_str': '1237156440713736192', 'name': 'CoMSEF papers', 'screen_name': 'CoMSEF_papers', 'location': '', 'description': '', 'url': None, 'entities': {'description': {'urls': []}}, 'protected': False, 'followers_count': 2, 'friends_count': 3, 'listed_count': 0, 'created_at': 'Mon Mar 09 23:21:14 +0000 2020', 'favourites_count': 1, 'utc_offset': None, 'time_zone': None, 'geo_enabled': False, 'verified': False, 'statuses_count': 2, 'lang': None, 'contributors_enabled': False, 'is_translator': False, 'is_translation_enabled': False, 'profile_background_color': 'F5F8FA', 'profile_background_image_url': None, 'profile_background_image_url_https': None, 'profile_background_tile': False, 'profile_image_url': 'http://abs.twimg.com/sticky/default_profile_images/default_profile_normal.png', 'profile_image_url_https': 'https://abs.twimg.com/sticky/default_profile_images/default_profile_normal.png', 'profile_link_color': '1DA1F2', 'profile_sidebar_border_color': 'C0DEED', 'profile_sidebar_fill_color': 'DDEEF6', 'profile_text_color': '333333', 'profile_use_background_image': True, 'has_extended_profile': True, 'default_profile': True, 'default_profile_image': True, 'following': False, 'follow_request_sent': False, 'notifications': False, 'translator_type': 'none'}, 'geo': None, 'coordinates': None, 'place': None, 'contributors': None, 'is_quote_status': False, 'retweet_count': 0, 'favorite_count': 0, 'favorited': False, 'retweeted': False, 'lang': 'en'}, created_at=datetime.datetime(2020, 3, 12, 23, 31, 14), id=1238246203017646086, id_str='1238246203017646086', text='Nucleotide-dependent conformational states of actin PNAS 2009 106: 12723-12728; published online before print July… https://t.co/UEn2GAr9YA', truncated=True, entities={'hashtags': [], 'symbols': [], 'user_mentions': [], 'urls': [{'url': 'https://t.co/UEn2GAr9YA', 'expanded_url': 'https://twitter.com/i/web/status/1238246203017646086', 'display_url': 'twitter.com/i/web/status/1…', 'indices': [116, 139]}]}, source='comsef_paper', source_url='https://www.aiche.org/community/divisions-forums/comsef', in_reply_to_status_id=None, in_reply_to_status_id_str=None, in_reply_to_user_id=None, in_reply_to_user_id_str=None, in_reply_to_screen_name=None, author=User(_api=<tweepy.api.API object at 0x10aa5f750>, _json={'id': 1237156440713736192, 'id_str': '1237156440713736192', 'name': 'CoMSEF papers', 'screen_name': 'CoMSEF_papers', 'location': '', 'description': '', 'url': None, 'entities': {'description': {'urls': []}}, 'protected': False, 'followers_count': 2, 'friends_count': 3, 'listed_count': 0, 'created_at': 'Mon Mar 09 23:21:14 +0000 2020', 'favourites_count': 1, 'utc_offset': None, 'time_zone': None, 'geo_enabled': False, 'verified': False, 'statuses_count': 2, 'lang': None, 'contributors_enabled': False, 'is_translator': False, 'is_translation_enabled': False, 'profile_background_color': 'F5F8FA', 'profile_background_image_url': None, 'profile_background_image_url_https': None, 'profile_background_tile': False, 'profile_image_url': 'http://abs.twimg.com/sticky/default_profile_images/default_profile_normal.png', 'profile_image_url_https': 'https://abs.twimg.com/sticky/default_profile_images/default_profile_normal.png', 'profile_link_color': '1DA1F2', 'profile_sidebar_border_color': 'C0DEED', 'profile_sidebar_fill_color': 'DDEEF6', 'profile_text_color': '333333', 'profile_use_background_image': True, 'has_extended_profile': True, 'default_profile': True, 'default_profile_image': True, 'following': False, 'follow_request_sent': False, 'notifications': False, 'translator_type': 'none'}, id=1237156440713736192, id_str='1237156440713736192', name='CoMSEF papers', screen_name='CoMSEF_papers', location='', description='', url=None, entities={'description': {'urls': []}}, protected=False, followers_count=2, friends_count=3, listed_count=0, created_at=datetime.datetime(2020, 3, 9, 23, 21, 14), favourites_count=1, utc_offset=None, time_zone=None, geo_enabled=False, verified=False, statuses_count=2, lang=None, contributors_enabled=False, is_translator=False, is_translation_enabled=False, profile_background_color='F5F8FA', profile_background_image_url=None, profile_background_image_url_https=None, profile_background_tile=False, profile_image_url='http://abs.twimg.com/sticky/default_profile_images/default_profile_normal.png', profile_image_url_https='https://abs.twimg.com/sticky/default_profile_images/default_profile_normal.png', profile_link_color='1DA1F2', profile_sidebar_border_color='C0DEED', profile_sidebar_fill_color='DDEEF6', profile_text_color='333333', profile_use_background_image=True, has_extended_profile=True, default_profile=True, default_profile_image=True, following=False, follow_request_sent=False, notifications=False, translator_type='none'), user=User(_api=<tweepy.api.API object at 0x10aa5f750>, _json={'id': 1237156440713736192, 'id_str': '1237156440713736192', 'name': 'CoMSEF papers', 'screen_name': 'CoMSEF_papers', 'location': '', 'description': '', 'url': None, 'entities': {'description': {'urls': []}}, 'protected': False, 'followers_count': 2, 'friends_count': 3, 'listed_count': 0, 'created_at': 'Mon Mar 09 23:21:14 +0000 2020', 'favourites_count': 1, 'utc_offset': None, 'time_zone': None, 'geo_enabled': False, 'verified': False, 'statuses_count': 2, 'lang': None, 'contributors_enabled': False, 'is_translator': False, 'is_translation_enabled': False, 'profile_background_color': 'F5F8FA', 'profile_background_image_url': None, 'profile_background_image_url_https': None, 'profile_background_tile': False, 'profile_image_url': 'http://abs.twimg.com/sticky/default_profile_images/default_profile_normal.png', 'profile_image_url_https': 'https://abs.twimg.com/sticky/default_profile_images/default_profile_normal.png', 'profile_link_color': '1DA1F2', 'profile_sidebar_border_color': 'C0DEED', 'profile_sidebar_fill_color': 'DDEEF6', 'profile_text_color': '333333', 'profile_use_background_image': True, 'has_extended_profile': True, 'default_profile': True, 'default_profile_image': True, 'following': False, 'follow_request_sent': False, 'notifications': False, 'translator_type': 'none'}, id=1237156440713736192, id_str='1237156440713736192', name='CoMSEF papers', screen_name='CoMSEF_papers', location='', description='', url=None, entities={'description': {'urls': []}}, protected=False, followers_count=2, friends_count=3, listed_count=0, created_at=datetime.datetime(2020, 3, 9, 23, 21, 14), favourites_count=1, utc_offset=None, time_zone=None, geo_enabled=False, verified=False, statuses_count=2, lang=None, contributors_enabled=False, is_translator=False, is_translation_enabled=False, profile_background_color='F5F8FA', profile_background_image_url=None, profile_background_image_url_https=None, profile_background_tile=False, profile_image_url='http://abs.twimg.com/sticky/default_profile_images/default_profile_normal.png', profile_image_url_https='https://abs.twimg.com/sticky/default_profile_images/default_profile_normal.png', profile_link_color='1DA1F2', profile_sidebar_border_color='C0DEED', profile_sidebar_fill_color='DDEEF6', profile_text_color='333333', profile_use_background_image=True, has_extended_profile=True, default_profile=True, default_profile_image=True, following=False, follow_request_sent=False, notifications=False, translator_type='none'), geo=None, coordinates=None, place=None, contributors=None, is_quote_status=False, retweet_count=0, favorite_count=0, favorited=False, retweeted=False, lang='en')"
      ]
     },
     "execution_count": 29,
     "metadata": {},
     "output_type": "execute_result"
    }
   ],
   "source": [
    "api.update_status(latest_pub.bib['title']+' published by '+latest_pub.bib['author'])"
   ]
  },
  {
   "cell_type": "code",
   "execution_count": 45,
   "metadata": {},
   "outputs": [
    {
     "name": "stdout",
     "output_type": "stream",
     "text": [
      "{'_filled': False,\n",
      " 'affiliation': 'University of Washington',\n",
      " 'citedby': 119,\n",
      " 'email': '@uw.edu',\n",
      " 'id': '7RFgJdEAAAAJ',\n",
      " 'interests': ['molecular dynamic simulation',\n",
      "               'peptide surface interaction',\n",
      "               'machine learning'],\n",
      " 'name': 'Coco M. Mao',\n",
      " 'url_picture': 'https://scholar.google.com/citations?view_op=medium_photo&user=7RFgJdEAAAAJ'}\n",
      "{'_filled': True,\n",
      " 'affiliation': 'University of Washington',\n",
      " 'citedby': 119,\n",
      " 'citedby5y': 119,\n",
      " 'cites_per_year': {2015: 5, 2016: 7, 2017: 28, 2018: 23, 2019: 41, 2020: 15},\n",
      " 'coauthors': [],\n",
      " 'email': '@uw.edu',\n",
      " 'hindex': 5,\n",
      " 'hindex5y': 5,\n",
      " 'i10index': 3,\n",
      " 'i10index5y': 3,\n",
      " 'id': '7RFgJdEAAAAJ',\n",
      " 'interests': ['molecular dynamic simulation',\n",
      "               'peptide surface interaction',\n",
      "               'machine learning'],\n",
      " 'name': 'Coco M. Mao',\n",
      " 'publications': [<scholarly.scholarly.Publication object at 0x11d6f5490>,\n",
      "                  <scholarly.scholarly.Publication object at 0x11d6f5850>,\n",
      "                  <scholarly.scholarly.Publication object at 0x11d6f5910>,\n",
      "                  <scholarly.scholarly.Publication object at 0x11d6f5950>,\n",
      "                  <scholarly.scholarly.Publication object at 0x11d6f5990>],\n",
      " 'url_picture': 'https://scholar.google.com/citations?view_op=medium_photo&user=7RFgJdEAAAAJ'}\n",
      "['Plasma electrolytic oxidation of an Al-Cu-Li alloy in alkaline aluminate electrolytes: A competition between growth and dissolution for the initial ultra-thin films', 'Key factors determining the development of two morphologies of plasma electrolytic coatings on an Al–Cu–Li alloy in aluminate electrolytes', 'High growth rate, wear resistant coatings on an Al–Cu–Li alloy by plasma electrolytic oxidation in concentrated aluminate electrolytes', 'Molecular Driving Forces in Peptide Adsorption to Metal Oxide Surfaces', 'Statistical models are able to predict ionic liquid viscosity across a wide range of chemical functionalities and experimental conditions']\n",
      "{'_filled': True,\n",
      " 'bib': {'abstract': <div class=\"gsc_vcd_value\" id=\"gsc_vcd_descr\"><div class=\"gsh_small\"><div><div><div class=\"gsh_csp\">Plasma electrolytic oxidation (PEO) of an Al-Cu-Li alloy has been carried out with a pulsed-bipolar current regime in alkaline sodium aluminate electrolytes. Thick coatings can be developed under plasma discharges in electrolytes of 5 g l<sup>−1</sup> NaAlO<sub>2</sub> + 1 g l<sup>−1</sup> KOH and 24 g l<sup>−1</sup> NaAlO<sub>2</sub> + 1 g l<sup>−1</sup> KOH. In contrast, the alloy exhibits a conventional anodization behavior with the occurrence of galvanoluminescence in concentrated aluminate electrolyte of 32 g l<sup>−1</sup> NaAlO<sub>2</sub> + 1 g l<sup>−1</sup> KOH, resulting in extremely thin nanoporous films and macropits on the alloy surface. It is proposed that, in the latter case, chemical attack from the electrolyte caused severer thinning of the original oxide film, paticularly at the weak sites of anodic constituent particles or precipitates, which then triggers strong field-assisted dissolution of the oxide film, preventing the further growth of the coating. However, after the formation of a thin pre-existing …</div></div></div></div></div>,\n",
      "         'author': 'Ying-liang Cheng and Mo-ke Mao and Jin-hui Cao and '\n",
      "                   'Zhao-mei Peng',\n",
      "         'eprint': 'https://www.sciencedirect.com/science/article/pii/S001346861401322X',\n",
      "         'journal': 'Electrochimica Acta',\n",
      "         'pages': '417-429',\n",
      "         'publisher': 'Pergamon',\n",
      "         'title': 'Plasma electrolytic oxidation of an Al-Cu-Li alloy in '\n",
      "                  'alkaline aluminate electrolytes: A competition between '\n",
      "                  'growth and dissolution for the initial ultra-thin films',\n",
      "         'url': 'https://www.sciencedirect.com/science/article/pii/S001346861401322X',\n",
      "         'volume': '138',\n",
      "         'year': 2014},\n",
      " 'citedby': 40,\n",
      " 'id_citations': '7RFgJdEAAAAJ:u5HHmVD_uO8C',\n",
      " 'id_scholarcitedby': '3669551971515052275',\n",
      " 'source': 'citations'}\n",
      "['Correlation between plasma electrolytic oxidation treatment stages and coating microstructure on aluminum under unipolar pulsed DC mode', 'The effects of anion deposition and negative pulse on the behaviours of plasma electrolytic oxidation (PEO)—A systematic study of the PEO of a Zirlo alloy in …', 'A comparison of plasma electrolytic oxidation of Ti-6Al-4V and Zircaloy-2 alloys in a silicate-hexametaphosphate electrolyte', 'Key factors determining the development of two morphologies of plasma electrolytic coatings on an Al–Cu–Li alloy in aluminate electrolytes', 'High growth rate, wear resistant coatings on an Al–Cu–Li alloy by plasma electrolytic oxidation in concentrated aluminate electrolytes', 'Delay in micro-discharges appearance during PEO of Al: Evidence of a mechanism of charge accumulation at the electrolyte/oxide interface', 'Plasma electrolytic oxidation of AZ31 magnesium alloy in aluminate-tungstate electrolytes and the coating formation mechanism', 'Formation process of in situ oxide coatings with high porosity using one-step plasma electrolytic oxidation', 'Wear and corrosion resistant coatings on surface of cast A356 aluminum alloy by plasma electrolytic oxidation in moderately concentrated aluminate electrolytes', 'The effect of pulse waveforms on surface morphology, composition and corrosion behavior of Al2O3 and Al2O3/TiO2 nano-composite PEO coatings on 7075 …', 'Investigation of electrode distance impact on PEO coating formation assisted by simulation', 'Effects of Disodium Phosphate Concentration (Na2HPO4·2H2O) on Microstructure and Corrosion Resistance of Plasma Electrolytic Oxidation (PEO) …', 'A re-understanding of the breakdown theory from the study of the plasma electrolytic oxidation of a carbon steel—A non-valve metal', 'Anodic films obtained on Ti6Al4V in aluminate solutions by spark anodizing: effect of OH− and WO4− 2 additions on the tribological properties', 'Particle size influences on the coating microstructure through green chromia inclusion in plasma electrolytic oxidation', 'Influence of cathodic duty cycle on the properties of tungsten containing Al2O3/TiO2 PEO nano-composite coatings', 'The synthesis of micro and nano WO3 powders under the sparks of plasma electrolytic oxidation of Al in a tungstate electrolyte', 'An investigation of microstructure evolution for plasma electrolytic oxidation (PEO) coated Al in an alkaline silicate electrolyte', 'A significant improvement of the wear resistance of Ti6Al4V alloy by a combined method of magnetron sputtering and plasma electrolytic oxidation (PEO)', 'A hard coating with MAO/AAO double layers prepared on aluminum in etidronic acid by DC oxidation', 'Subtractive manufacturing of stable hierarchical micro-nano structures on AA5052 sheet with enhanced water repellence and durable corrosion resistance', 'Characterization of plasma electrolytic oxidation coating on low carbon steel prepared from silicate electrolyte with Al nanoparticles', 'On the compactness of the oxide layer induced by utilizing a porosification agent', 'Effects of honeycomb pretreatment on MAO coating fabricated on aluminum', 'The effect of residual stress and gradient nanostructure on the fretting fatigue behavior of plasma electrolytic oxidation coated Ti–6Al–4V alloy', 'Effect of Iron sulfate as electrolyte additive on plasma electrolytic oxidation of aluminum alloy', 'An interesting anodic oxidation behavior of plasma electrolytic oxidation coatings fabricated on aluminum in alkaline phosphate electrolyte', 'Influences of edge effect on microstructure and corrosion behaviour of PEO coating', 'An investigation of plasma electrolytic oxidation coatings on crevice surface of AZ31 magnesium alloy', 'Studying thermal stresses of a solar absorber in single and two-phase regimes and effects of various coatings on the absorber', 'Sequential run of the PEO process with various pulsed bipolar current waveforms', 'Potential and morphological transitions during bipolar plasma electrolytic oxidation of tantalum in silicate electrolyte', 'Studying the thermal stress of a solar absorber in the single and two-phase regimes and effect of different coats on absorber', 'Plasma electrolytic oxidation ceramic coatings proceed by porous anodic film', 'Influence of electrolyte components on the microstructure and growth mechanism of plasma electrolytic oxidation coatings on 1060 aluminum alloy', 'The correlation between the Na2SiO3· 9H2O concentrations and the characteristics of plasma electrolytic oxidation ceramic coatings', 'Anodizing of Ti cp and Ti6Al4V alloy in high pH solutions for applications of high wear performance', 'Simulation of Plasma Electrolytic Oxidation (PEO) of AM50 Mg Alloys and its Experimental Validation', 'of the original manuscript', 'Desarrollo de capas anódicas sobre acero inoxidable 304L.']\n"
     ]
    }
   ],
   "source": [
    "name = 'Coco M. Mao'\n",
    "search_query = scholarly.search_author(name)\n",
    "\n",
    "print(next(search_query)) \n",
    "# Retrieve the author's data, fill-in, and print\n",
    "\n",
    "search_query = scholarly.search_author(name)\n",
    "author = next(search_query).fill()\n",
    "print(author)\n",
    "\n",
    "# Print the titles of the author's publications\n",
    "print([pub.bib['title'] for pub in author.publications])\n",
    "\n",
    "# Take a closer look at the first publication\n",
    "pub = author.publications[0].fill()\n",
    "print(author.publications[0].fill())\n",
    "\n",
    "# Which papers cited that publication?\n",
    "print([citation.bib['title'] for citation in pub.get_citedby()])"
   ]
  },
  {
   "cell_type": "code",
   "execution_count": 33,
   "metadata": {
    "collapsed": true
   },
   "outputs": [
    {
     "name": "stdout",
     "output_type": "stream",
     "text": [
      "{'_filled': False,\n",
      " 'affiliation': 'University of Washington',\n",
      " 'citedby': 2750,\n",
      " 'email': '@uw.edu',\n",
      " 'id': 'ASTIg_wAAAAJ',\n",
      " 'interests': ['molecular simulation',\n",
      "               'enhanced sampling',\n",
      "               'biophysics',\n",
      "               'polymers',\n",
      "               'reaction engineering'],\n",
      " 'name': 'Jim Pfaendtner',\n",
      " 'url_picture': 'https://scholar.google.com/citations?view_op=medium_photo&user=ASTIg_wAAAAJ'}\n",
      "{'_filled': True,\n",
      " 'affiliation': 'University of Washington',\n",
      " 'citedby': 2750,\n",
      " 'citedby5y': 2030,\n",
      " 'cites_per_year': {2007: 16,\n",
      "                    2008: 25,\n",
      "                    2009: 60,\n",
      "                    2010: 103,\n",
      "                    2011: 125,\n",
      "                    2012: 114,\n",
      "                    2013: 132,\n",
      "                    2014: 128,\n",
      "                    2015: 225,\n",
      "                    2016: 311,\n",
      "                    2017: 417,\n",
      "                    2018: 478,\n",
      "                    2019: 460,\n",
      "                    2020: 134},\n",
      " 'coauthors': [<scholarly.scholarly.Author object at 0x11d773fd0>],\n",
      " 'email': '@uw.edu',\n",
      " 'hindex': 30,\n",
      " 'hindex5y': 28,\n",
      " 'i10index': 60,\n",
      " 'i10index5y': 57,\n",
      " 'id': 'ASTIg_wAAAAJ',\n",
      " 'interests': ['molecular simulation',\n",
      "               'enhanced sampling',\n",
      "               'biophysics',\n",
      "               'polymers',\n",
      "               'reaction engineering'],\n",
      " 'name': 'Jim Pfaendtner',\n",
      " 'publications': [<scholarly.scholarly.Publication object at 0x11d5da950>,\n",
      "                  <scholarly.scholarly.Publication object at 0x11d5da8d0>,\n",
      "                  <scholarly.scholarly.Publication object at 0x11d5da990>,\n",
      "                  <scholarly.scholarly.Publication object at 0x11d5da9d0>,\n",
      "                  <scholarly.scholarly.Publication object at 0x11d5daa10>,\n",
      "                  <scholarly.scholarly.Publication object at 0x11d5daa90>,\n",
      "                  <scholarly.scholarly.Publication object at 0x11d5daad0>,\n",
      "                  <scholarly.scholarly.Publication object at 0x11d5dab10>,\n",
      "                  <scholarly.scholarly.Publication object at 0x11d5dab50>,\n",
      "                  <scholarly.scholarly.Publication object at 0x11d5daa50>,\n",
      "                  <scholarly.scholarly.Publication object at 0x11d5dab90>,\n",
      "                  <scholarly.scholarly.Publication object at 0x11d5dabd0>,\n",
      "                  <scholarly.scholarly.Publication object at 0x11d5dac10>,\n",
      "                  <scholarly.scholarly.Publication object at 0x11d5dac50>,\n",
      "                  <scholarly.scholarly.Publication object at 0x11d5dac90>,\n",
      "                  <scholarly.scholarly.Publication object at 0x11d5dacd0>,\n",
      "                  <scholarly.scholarly.Publication object at 0x11d5dad10>,\n",
      "                  <scholarly.scholarly.Publication object at 0x11d5dad50>,\n",
      "                  <scholarly.scholarly.Publication object at 0x11d5dad90>,\n",
      "                  <scholarly.scholarly.Publication object at 0x11d5dadd0>,\n",
      "                  <scholarly.scholarly.Publication object at 0x11d5dae10>,\n",
      "                  <scholarly.scholarly.Publication object at 0x11d5dae50>,\n",
      "                  <scholarly.scholarly.Publication object at 0x11d5dae90>,\n",
      "                  <scholarly.scholarly.Publication object at 0x11d5daed0>,\n",
      "                  <scholarly.scholarly.Publication object at 0x11d5daf10>,\n",
      "                  <scholarly.scholarly.Publication object at 0x11d5daf50>,\n",
      "                  <scholarly.scholarly.Publication object at 0x11d5daf90>,\n",
      "                  <scholarly.scholarly.Publication object at 0x11d5dafd0>,\n",
      "                  <scholarly.scholarly.Publication object at 0x11d5e3050>,\n",
      "                  <scholarly.scholarly.Publication object at 0x11d5e3090>,\n",
      "                  <scholarly.scholarly.Publication object at 0x11d5e30d0>,\n",
      "                  <scholarly.scholarly.Publication object at 0x11d5e3110>,\n",
      "                  <scholarly.scholarly.Publication object at 0x11d5e3150>,\n",
      "                  <scholarly.scholarly.Publication object at 0x11d5e3190>,\n",
      "                  <scholarly.scholarly.Publication object at 0x11d5e31d0>,\n",
      "                  <scholarly.scholarly.Publication object at 0x11d5e3210>,\n",
      "                  <scholarly.scholarly.Publication object at 0x11d5e3250>,\n",
      "                  <scholarly.scholarly.Publication object at 0x11d5e3290>,\n",
      "                  <scholarly.scholarly.Publication object at 0x11d5e32d0>,\n",
      "                  <scholarly.scholarly.Publication object at 0x11d5e3310>,\n",
      "                  <scholarly.scholarly.Publication object at 0x11d5e3350>,\n",
      "                  <scholarly.scholarly.Publication object at 0x11d5e3390>,\n",
      "                  <scholarly.scholarly.Publication object at 0x11d5e33d0>,\n",
      "                  <scholarly.scholarly.Publication object at 0x11d5e3410>,\n",
      "                  <scholarly.scholarly.Publication object at 0x11d5e3450>,\n",
      "                  <scholarly.scholarly.Publication object at 0x11d5e3490>,\n",
      "                  <scholarly.scholarly.Publication object at 0x11d5e34d0>,\n",
      "                  <scholarly.scholarly.Publication object at 0x11d5e3510>,\n",
      "                  <scholarly.scholarly.Publication object at 0x11d5e3550>,\n",
      "                  <scholarly.scholarly.Publication object at 0x11d5e3590>,\n",
      "                  <scholarly.scholarly.Publication object at 0x11d5e35d0>,\n",
      "                  <scholarly.scholarly.Publication object at 0x11d5e3610>,\n",
      "                  <scholarly.scholarly.Publication object at 0x11d5e3650>,\n",
      "                  <scholarly.scholarly.Publication object at 0x11d5e3690>,\n",
      "                  <scholarly.scholarly.Publication object at 0x11d5e36d0>,\n",
      "                  <scholarly.scholarly.Publication object at 0x11d5e3710>,\n",
      "                  <scholarly.scholarly.Publication object at 0x11d5e3750>,\n",
      "                  <scholarly.scholarly.Publication object at 0x11d5e3790>,\n",
      "                  <scholarly.scholarly.Publication object at 0x11d5e37d0>,\n",
      "                  <scholarly.scholarly.Publication object at 0x11d5e3810>,\n",
      "                  <scholarly.scholarly.Publication object at 0x11d5e3850>,\n",
      "                  <scholarly.scholarly.Publication object at 0x11d5e3890>,\n",
      "                  <scholarly.scholarly.Publication object at 0x11d5e38d0>,\n",
      "                  <scholarly.scholarly.Publication object at 0x11d5e3910>,\n",
      "                  <scholarly.scholarly.Publication object at 0x11d5e3950>,\n",
      "                  <scholarly.scholarly.Publication object at 0x11d5e3990>,\n",
      "                  <scholarly.scholarly.Publication object at 0x11d5e39d0>,\n",
      "                  <scholarly.scholarly.Publication object at 0x11d5e3a10>,\n",
      "                  <scholarly.scholarly.Publication object at 0x11d5e3a50>,\n",
      "                  <scholarly.scholarly.Publication object at 0x11d5e3a90>,\n",
      "                  <scholarly.scholarly.Publication object at 0x11d5e3ad0>,\n",
      "                  <scholarly.scholarly.Publication object at 0x11d5e3b10>,\n",
      "                  <scholarly.scholarly.Publication object at 0x11d5e3b50>,\n",
      "                  <scholarly.scholarly.Publication object at 0x11d5e3b90>,\n",
      "                  <scholarly.scholarly.Publication object at 0x11d5e3bd0>,\n",
      "                  <scholarly.scholarly.Publication object at 0x11d5e3c10>,\n",
      "                  <scholarly.scholarly.Publication object at 0x11d5e3c50>,\n",
      "                  <scholarly.scholarly.Publication object at 0x11d5e3c90>,\n",
      "                  <scholarly.scholarly.Publication object at 0x11d5e3cd0>,\n",
      "                  <scholarly.scholarly.Publication object at 0x11d5e3d10>,\n",
      "                  <scholarly.scholarly.Publication object at 0x11d5e3d50>,\n",
      "                  <scholarly.scholarly.Publication object at 0x11d5e3d90>,\n",
      "                  <scholarly.scholarly.Publication object at 0x11d5e3dd0>,\n",
      "                  <scholarly.scholarly.Publication object at 0x11d5e3e10>,\n",
      "                  <scholarly.scholarly.Publication object at 0x11d5e3e50>,\n",
      "                  <scholarly.scholarly.Publication object at 0x11d5e3e90>,\n",
      "                  <scholarly.scholarly.Publication object at 0x11d5e3ed0>,\n",
      "                  <scholarly.scholarly.Publication object at 0x11d5e3f10>,\n",
      "                  <scholarly.scholarly.Publication object at 0x11d5e3f50>,\n",
      "                  <scholarly.scholarly.Publication object at 0x11d5e3f90>,\n",
      "                  <scholarly.scholarly.Publication object at 0x11d5e3fd0>,\n",
      "                  <scholarly.scholarly.Publication object at 0x11d670050>,\n",
      "                  <scholarly.scholarly.Publication object at 0x11d670090>,\n",
      "                  <scholarly.scholarly.Publication object at 0x11d6700d0>,\n",
      "                  <scholarly.scholarly.Publication object at 0x11d670110>,\n",
      "                  <scholarly.scholarly.Publication object at 0x11d670150>,\n",
      "                  <scholarly.scholarly.Publication object at 0x11d670190>,\n",
      "                  <scholarly.scholarly.Publication object at 0x11d6701d0>,\n",
      "                  <scholarly.scholarly.Publication object at 0x11d670210>,\n",
      "                  <scholarly.scholarly.Publication object at 0x11d670250>,\n",
      "                  <scholarly.scholarly.Publication object at 0x11d478590>,\n",
      "                  <scholarly.scholarly.Publication object at 0x11d478550>,\n",
      "                  <scholarly.scholarly.Publication object at 0x11d13ced0>,\n",
      "                  <scholarly.scholarly.Publication object at 0x11d13cb50>,\n",
      "                  <scholarly.scholarly.Publication object at 0x11d13cf10>,\n",
      "                  <scholarly.scholarly.Publication object at 0x11d13cf50>,\n",
      "                  <scholarly.scholarly.Publication object at 0x11d13cf90>,\n",
      "                  <scholarly.scholarly.Publication object at 0x11d13cfd0>,\n",
      "                  <scholarly.scholarly.Publication object at 0x11d141050>,\n",
      "                  <scholarly.scholarly.Publication object at 0x11d141090>,\n",
      "                  <scholarly.scholarly.Publication object at 0x11d1410d0>,\n",
      "                  <scholarly.scholarly.Publication object at 0x11d141110>,\n",
      "                  <scholarly.scholarly.Publication object at 0x11d141150>,\n",
      "                  <scholarly.scholarly.Publication object at 0x11d141190>,\n",
      "                  <scholarly.scholarly.Publication object at 0x11d1411d0>,\n",
      "                  <scholarly.scholarly.Publication object at 0x11d141210>,\n",
      "                  <scholarly.scholarly.Publication object at 0x11d141250>,\n",
      "                  <scholarly.scholarly.Publication object at 0x11d141290>,\n",
      "                  <scholarly.scholarly.Publication object at 0x11d1412d0>,\n",
      "                  <scholarly.scholarly.Publication object at 0x11d141310>,\n",
      "                  <scholarly.scholarly.Publication object at 0x11d141350>,\n",
      "                  <scholarly.scholarly.Publication object at 0x11d141390>,\n",
      "                  <scholarly.scholarly.Publication object at 0x11d1413d0>,\n",
      "                  <scholarly.scholarly.Publication object at 0x11d141410>,\n",
      "                  <scholarly.scholarly.Publication object at 0x11d141450>,\n",
      "                  <scholarly.scholarly.Publication object at 0x11d141490>,\n",
      "                  <scholarly.scholarly.Publication object at 0x11d1414d0>,\n",
      "                  <scholarly.scholarly.Publication object at 0x11d141510>,\n",
      "                  <scholarly.scholarly.Publication object at 0x11d141550>,\n",
      "                  <scholarly.scholarly.Publication object at 0x11d141590>,\n",
      "                  <scholarly.scholarly.Publication object at 0x11d1415d0>,\n",
      "                  <scholarly.scholarly.Publication object at 0x11d141610>,\n",
      "                  <scholarly.scholarly.Publication object at 0x11d141650>,\n",
      "                  <scholarly.scholarly.Publication object at 0x11d141690>,\n",
      "                  <scholarly.scholarly.Publication object at 0x11d1416d0>,\n",
      "                  <scholarly.scholarly.Publication object at 0x11d141710>,\n",
      "                  <scholarly.scholarly.Publication object at 0x11d141750>,\n",
      "                  <scholarly.scholarly.Publication object at 0x11d141790>,\n",
      "                  <scholarly.scholarly.Publication object at 0x11d1417d0>,\n",
      "                  <scholarly.scholarly.Publication object at 0x11d141810>,\n",
      "                  <scholarly.scholarly.Publication object at 0x11d141850>,\n",
      "                  <scholarly.scholarly.Publication object at 0x11d141890>,\n",
      "                  <scholarly.scholarly.Publication object at 0x11d1418d0>,\n",
      "                  <scholarly.scholarly.Publication object at 0x11d141910>,\n",
      "                  <scholarly.scholarly.Publication object at 0x11d141950>,\n",
      "                  <scholarly.scholarly.Publication object at 0x11d141990>,\n",
      "                  <scholarly.scholarly.Publication object at 0x11d1419d0>,\n",
      "                  <scholarly.scholarly.Publication object at 0x11d141a10>,\n",
      "                  <scholarly.scholarly.Publication object at 0x11d141a50>,\n",
      "                  <scholarly.scholarly.Publication object at 0x11d141a90>,\n",
      "                  <scholarly.scholarly.Publication object at 0x11d141ad0>],\n",
      " 'url_picture': 'https://scholar.google.com/citations?view_op=medium_photo&user=ASTIg_wAAAAJ'}\n"
     ]
    }
   ],
   "source": [
    "search_query = scholarly.search_author(name)\n",
    "\n",
    "print(next(search_query)) \n",
    "# Retrieve the author's data, fill-in, and print\n",
    "\n",
    "search_query = scholarly.search_author(name)\n",
    "author = next(search_query).fill()\n",
    "print(author)"
   ]
  },
  {
   "cell_type": "code",
   "execution_count": null,
   "metadata": {},
   "outputs": [],
   "source": [
    "library = pd.Dataframe(columns = ['title','author','url'])\n",
    "\n",
    "for pub in author.publications:\n",
    "    \n",
    "    \n"
   ]
  },
  {
   "cell_type": "code",
   "execution_count": 43,
   "metadata": {
    "collapsed": true
   },
   "outputs": [
    {
     "data": {
      "text/plain": [
       "Status(_api=<tweepy.api.API object at 0x10aa5f750>, _json={'created_at': 'Thu Mar 12 23:53:55 +0000 2020', 'id': 1238251910873972736, 'id_str': '1238251910873972736', 'text': 'Jim Pfaendtner citation stats: {2007: 16, 2008: 25, 2009: 60, 2010: 103, 2011: 125, 2012: 114, 2013: 132, 2014: 128… https://t.co/CRAr6zVNTE', 'truncated': True, 'entities': {'hashtags': [], 'symbols': [], 'user_mentions': [], 'urls': [{'url': 'https://t.co/CRAr6zVNTE', 'expanded_url': 'https://twitter.com/i/web/status/1238251910873972736', 'display_url': 'twitter.com/i/web/status/1…', 'indices': [117, 140]}]}, 'source': '<a href=\"https://www.aiche.org/community/divisions-forums/comsef\" rel=\"nofollow\">comsef_paper</a>', 'in_reply_to_status_id': None, 'in_reply_to_status_id_str': None, 'in_reply_to_user_id': None, 'in_reply_to_user_id_str': None, 'in_reply_to_screen_name': None, 'user': {'id': 1237156440713736192, 'id_str': '1237156440713736192', 'name': 'CoMSEF papers', 'screen_name': 'CoMSEF_papers', 'location': '', 'description': '', 'url': None, 'entities': {'description': {'urls': []}}, 'protected': False, 'followers_count': 3, 'friends_count': 3, 'listed_count': 0, 'created_at': 'Mon Mar 09 23:21:14 +0000 2020', 'favourites_count': 1, 'utc_offset': None, 'time_zone': None, 'geo_enabled': False, 'verified': False, 'statuses_count': 4, 'lang': None, 'contributors_enabled': False, 'is_translator': False, 'is_translation_enabled': False, 'profile_background_color': 'F5F8FA', 'profile_background_image_url': None, 'profile_background_image_url_https': None, 'profile_background_tile': False, 'profile_image_url': 'http://abs.twimg.com/sticky/default_profile_images/default_profile_normal.png', 'profile_image_url_https': 'https://abs.twimg.com/sticky/default_profile_images/default_profile_normal.png', 'profile_link_color': '1DA1F2', 'profile_sidebar_border_color': 'C0DEED', 'profile_sidebar_fill_color': 'DDEEF6', 'profile_text_color': '333333', 'profile_use_background_image': True, 'has_extended_profile': True, 'default_profile': True, 'default_profile_image': True, 'following': False, 'follow_request_sent': False, 'notifications': False, 'translator_type': 'none'}, 'geo': None, 'coordinates': None, 'place': None, 'contributors': None, 'is_quote_status': False, 'retweet_count': 0, 'favorite_count': 0, 'favorited': False, 'retweeted': False, 'lang': 'de'}, created_at=datetime.datetime(2020, 3, 12, 23, 53, 55), id=1238251910873972736, id_str='1238251910873972736', text='Jim Pfaendtner citation stats: {2007: 16, 2008: 25, 2009: 60, 2010: 103, 2011: 125, 2012: 114, 2013: 132, 2014: 128… https://t.co/CRAr6zVNTE', truncated=True, entities={'hashtags': [], 'symbols': [], 'user_mentions': [], 'urls': [{'url': 'https://t.co/CRAr6zVNTE', 'expanded_url': 'https://twitter.com/i/web/status/1238251910873972736', 'display_url': 'twitter.com/i/web/status/1…', 'indices': [117, 140]}]}, source='comsef_paper', source_url='https://www.aiche.org/community/divisions-forums/comsef', in_reply_to_status_id=None, in_reply_to_status_id_str=None, in_reply_to_user_id=None, in_reply_to_user_id_str=None, in_reply_to_screen_name=None, author=User(_api=<tweepy.api.API object at 0x10aa5f750>, _json={'id': 1237156440713736192, 'id_str': '1237156440713736192', 'name': 'CoMSEF papers', 'screen_name': 'CoMSEF_papers', 'location': '', 'description': '', 'url': None, 'entities': {'description': {'urls': []}}, 'protected': False, 'followers_count': 3, 'friends_count': 3, 'listed_count': 0, 'created_at': 'Mon Mar 09 23:21:14 +0000 2020', 'favourites_count': 1, 'utc_offset': None, 'time_zone': None, 'geo_enabled': False, 'verified': False, 'statuses_count': 4, 'lang': None, 'contributors_enabled': False, 'is_translator': False, 'is_translation_enabled': False, 'profile_background_color': 'F5F8FA', 'profile_background_image_url': None, 'profile_background_image_url_https': None, 'profile_background_tile': False, 'profile_image_url': 'http://abs.twimg.com/sticky/default_profile_images/default_profile_normal.png', 'profile_image_url_https': 'https://abs.twimg.com/sticky/default_profile_images/default_profile_normal.png', 'profile_link_color': '1DA1F2', 'profile_sidebar_border_color': 'C0DEED', 'profile_sidebar_fill_color': 'DDEEF6', 'profile_text_color': '333333', 'profile_use_background_image': True, 'has_extended_profile': True, 'default_profile': True, 'default_profile_image': True, 'following': False, 'follow_request_sent': False, 'notifications': False, 'translator_type': 'none'}, id=1237156440713736192, id_str='1237156440713736192', name='CoMSEF papers', screen_name='CoMSEF_papers', location='', description='', url=None, entities={'description': {'urls': []}}, protected=False, followers_count=3, friends_count=3, listed_count=0, created_at=datetime.datetime(2020, 3, 9, 23, 21, 14), favourites_count=1, utc_offset=None, time_zone=None, geo_enabled=False, verified=False, statuses_count=4, lang=None, contributors_enabled=False, is_translator=False, is_translation_enabled=False, profile_background_color='F5F8FA', profile_background_image_url=None, profile_background_image_url_https=None, profile_background_tile=False, profile_image_url='http://abs.twimg.com/sticky/default_profile_images/default_profile_normal.png', profile_image_url_https='https://abs.twimg.com/sticky/default_profile_images/default_profile_normal.png', profile_link_color='1DA1F2', profile_sidebar_border_color='C0DEED', profile_sidebar_fill_color='DDEEF6', profile_text_color='333333', profile_use_background_image=True, has_extended_profile=True, default_profile=True, default_profile_image=True, following=False, follow_request_sent=False, notifications=False, translator_type='none'), user=User(_api=<tweepy.api.API object at 0x10aa5f750>, _json={'id': 1237156440713736192, 'id_str': '1237156440713736192', 'name': 'CoMSEF papers', 'screen_name': 'CoMSEF_papers', 'location': '', 'description': '', 'url': None, 'entities': {'description': {'urls': []}}, 'protected': False, 'followers_count': 3, 'friends_count': 3, 'listed_count': 0, 'created_at': 'Mon Mar 09 23:21:14 +0000 2020', 'favourites_count': 1, 'utc_offset': None, 'time_zone': None, 'geo_enabled': False, 'verified': False, 'statuses_count': 4, 'lang': None, 'contributors_enabled': False, 'is_translator': False, 'is_translation_enabled': False, 'profile_background_color': 'F5F8FA', 'profile_background_image_url': None, 'profile_background_image_url_https': None, 'profile_background_tile': False, 'profile_image_url': 'http://abs.twimg.com/sticky/default_profile_images/default_profile_normal.png', 'profile_image_url_https': 'https://abs.twimg.com/sticky/default_profile_images/default_profile_normal.png', 'profile_link_color': '1DA1F2', 'profile_sidebar_border_color': 'C0DEED', 'profile_sidebar_fill_color': 'DDEEF6', 'profile_text_color': '333333', 'profile_use_background_image': True, 'has_extended_profile': True, 'default_profile': True, 'default_profile_image': True, 'following': False, 'follow_request_sent': False, 'notifications': False, 'translator_type': 'none'}, id=1237156440713736192, id_str='1237156440713736192', name='CoMSEF papers', screen_name='CoMSEF_papers', location='', description='', url=None, entities={'description': {'urls': []}}, protected=False, followers_count=3, friends_count=3, listed_count=0, created_at=datetime.datetime(2020, 3, 9, 23, 21, 14), favourites_count=1, utc_offset=None, time_zone=None, geo_enabled=False, verified=False, statuses_count=4, lang=None, contributors_enabled=False, is_translator=False, is_translation_enabled=False, profile_background_color='F5F8FA', profile_background_image_url=None, profile_background_image_url_https=None, profile_background_tile=False, profile_image_url='http://abs.twimg.com/sticky/default_profile_images/default_profile_normal.png', profile_image_url_https='https://abs.twimg.com/sticky/default_profile_images/default_profile_normal.png', profile_link_color='1DA1F2', profile_sidebar_border_color='C0DEED', profile_sidebar_fill_color='DDEEF6', profile_text_color='333333', profile_use_background_image=True, has_extended_profile=True, default_profile=True, default_profile_image=True, following=False, follow_request_sent=False, notifications=False, translator_type='none'), geo=None, coordinates=None, place=None, contributors=None, is_quote_status=False, retweet_count=0, favorite_count=0, favorited=False, retweeted=False, lang='de')"
      ]
     },
     "execution_count": 43,
     "metadata": {},
     "output_type": "execute_result"
    }
   ],
   "source": [
    "api.update_status(author.name+' citation stats: '+str(author.cites_per_year))"
   ]
  },
  {
   "cell_type": "code",
   "execution_count": null,
   "metadata": {},
   "outputs": [],
   "source": []
  }
 ],
 "metadata": {
  "kernelspec": {
   "display_name": "Python 3",
   "language": "python",
   "name": "python3"
  },
  "language_info": {
   "codemirror_mode": {
    "name": "ipython",
    "version": 3
   },
   "file_extension": ".py",
   "mimetype": "text/x-python",
   "name": "python",
   "nbconvert_exporter": "python",
   "pygments_lexer": "ipython3",
   "version": "3.7.4"
  }
 },
 "nbformat": 4,
 "nbformat_minor": 2
}
